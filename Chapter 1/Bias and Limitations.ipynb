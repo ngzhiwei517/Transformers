{
  "cells": [
    {
      "cell_type": "markdown",
      "metadata": {
        "id": "9R--AOCnX0G-"
      },
      "source": [
        "# Bias and limitations"
      ]
    },
    {
      "cell_type": "markdown",
      "metadata": {
        "id": "BGcsdtYYX0HH"
      },
      "source": [
        "Install the Transformers, Datasets, and Evaluate libraries to run this notebook."
      ]
    },
    {
      "cell_type": "code",
      "execution_count": null,
      "metadata": {
        "id": "jv2joY-GX0HJ"
      },
      "outputs": [],
      "source": [
        "!pip install datasets evaluate transformers[sentencepiece]"
      ]
    },
    {
      "cell_type": "code",
      "execution_count": null,
      "metadata": {
        "id": "q7uGOKsxX0HN"
      },
      "outputs": [],
      "source": [
        "from transformers import pipeline\n",
        "\n",
        "unmasker = pipeline(\"fill-mask\", model=\"bert-base-uncased\")\n",
        "result = unmasker(\"This man works as a [MASK].\")\n",
        "print([r[\"token_str\"] for r in result])\n",
        "\n",
        "result = unmasker(\"This woman works as a [MASK].\")\n",
        "print([r[\"token_str\"] for r in result])"
      ]
    },
    {
      "cell_type": "markdown",
      "source": [
        "😟 Why is this a Problem?\n",
        "The model shows men in more technical or high-status jobs 🧑‍💼.\n",
        "\n",
        "The model shows women in traditional or lower-status roles 🧑‍🍳.\n",
        "\n",
        "This reflects societal stereotypes, not the real potential of people 🚫.\n"
      ],
      "metadata": {
        "id": "4z9oZSNJYdnx"
      }
    },
    {
      "cell_type": "markdown",
      "source": [
        "\n",
        "\n",
        "---\n",
        "\n",
        "\n",
        "❗ Key Takeaways:\n",
        "💡 AI can learn and repeat real-world biases.\n",
        "\n",
        "🛠️ Fine-tuning on better data helps, but won’t remove all bias.\n",
        "\n",
        "👀 Always review AI output carefully, especially in sensitive applications (like HR, law, or education)."
      ],
      "metadata": {
        "id": "G5UiDHdWYgYT"
      }
    }
  ],
  "metadata": {
    "colab": {
      "name": "Bias and limitations",
      "provenance": []
    },
    "language_info": {
      "name": "python"
    },
    "kernelspec": {
      "name": "python3",
      "display_name": "Python 3"
    }
  },
  "nbformat": 4,
  "nbformat_minor": 0
}